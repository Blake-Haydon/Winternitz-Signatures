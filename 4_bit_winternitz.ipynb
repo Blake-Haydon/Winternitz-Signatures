{
 "cells": [
  {
   "cell_type": "code",
   "execution_count": 1,
   "metadata": {},
   "outputs": [],
   "source": [
    "import secrets\n",
    "from winternitz_utils import hash_chain "
   ]
  },
  {
   "attachments": {},
   "cell_type": "markdown",
   "metadata": {},
   "source": [
    "# Naive 4 Bit Winternitz Signatures\n",
    "\n",
    "This notebook contains a simple implementation of Winternitz one-time signatures for 4 bit numbers. Because no checksum is used signatures can be forged. Being able to easily forge signatures makes this scheme insecure!"
   ]
  },
  {
   "attachments": {},
   "cell_type": "markdown",
   "metadata": {},
   "source": [
    "## Generate Key Pair\n",
    "\n",
    "**Private Key** ($sk$): Random number from 256 bits (or whatever the hash function input length is).\n",
    "\n",
    "$$sk \\overset{{\\scriptscriptstyle\\$}}{\\leftarrow} \\mathbb{\\{0, 1\\}^{256}}$$     \n",
    "\n",
    "**Public Key** ($pk$): Hash the private key 16 times (as $2^4 = 16$ for 4 bit messages).\n",
    "\n",
    "$$h(h(h(h(h(h(h(h(h(h(h(h(h(h(h(h(sk)))))))))))))))) = h^{16}(sk) = pk$$"
   ]
  },
  {
   "cell_type": "code",
   "execution_count": 2,
   "metadata": {},
   "outputs": [
    {
     "name": "stdout",
     "output_type": "stream",
     "text": [
      "private_key.hex()='a08c4ba46969948613d626c6deb66d722202e7f41baa3d4b3c15da3d3f64a1b8'\n",
      "public_key.hex()='fc45d633f53380e2baa4aad16c1bcc0fa4626cc7b138fc8b6cffe3b2e146ad8e'\n"
     ]
    }
   ],
   "source": [
    "private_key = secrets.token_bytes(32) # 256 bits (SHA3-256 accepts inputs of 256 bits)\n",
    "public_key = hash_chain(16, private_key)\n",
    "\n",
    "print(f\"{private_key.hex()=}\")\n",
    "print(f\"{public_key.hex()=}\")"
   ]
  },
  {
   "attachments": {},
   "cell_type": "markdown",
   "metadata": {},
   "source": [
    "## Sign Message\n",
    "\n",
    "In order to sign a message we take our private key and hash it $m$ times. In our example our message is 5, therefore we construct a [hash chain](https://en.wikipedia.org/wiki/Hash_chain) of length 5.\n",
    "\n",
    "When $m=5$ we use the following formula ($h$ is our hash function and $sk$ is the private key):\n",
    "\n",
    "$$h(h(h(h(h(sk))))) = h^5(sk) = h^m(sk) = sig^5$$ "
   ]
  },
  {
   "cell_type": "code",
   "execution_count": 3,
   "metadata": {},
   "outputs": [
    {
     "name": "stdout",
     "output_type": "stream",
     "text": [
      "signature.hex()='1a8244737de949d5044a35ccc56b8f7c29b638fe740c3b876b17eac6742c75ab'\n"
     ]
    }
   ],
   "source": [
    "message = 5 #0b0101\n",
    "signature = hash_chain(message, private_key)\n",
    "\n",
    "print(f\"{signature.hex()=}\")"
   ]
  },
  {
   "attachments": {},
   "cell_type": "markdown",
   "metadata": {},
   "source": [
    "## Verify Message\n",
    "\n",
    "To verify a signed message the verifier must know the public key and the message. The verifier then hashes the signature $16 - m$ times and compares it to the public key. If the public key and the hashed signature match then the signature is valid. The following formula shows how the verifier can check the signature ($h$ is our hash function, $sk$ is the private key and $pk$ is the public key):\n",
    "\n",
    "$$h^{16 - m}(sig^5) = h^{16 - m}(h^m(sk)) = h^{16 - m + m}(sk)= h^{16}(sk) = pk$$ \n",
    "\n",
    "We use the following formula to check if the signature is valid:\n",
    "\n",
    "$$h^{16 - m}(sig^5) \\equiv pk$$"
   ]
  },
  {
   "cell_type": "code",
   "execution_count": 4,
   "metadata": {},
   "outputs": [
    {
     "data": {
      "text/plain": [
       "True"
      ]
     },
     "execution_count": 4,
     "metadata": {},
     "output_type": "execute_result"
    }
   ],
   "source": [
    "# If true then the signature is valid\n",
    "hash_chain(16 - message, signature) == public_key"
   ]
  },
  {
   "attachments": {},
   "cell_type": "markdown",
   "metadata": {},
   "source": [
    "## Forged Signature\n",
    "\n",
    "Because a one-way function is easy to compute in the forward direction we can easily forge proofs for messages where the forged messaged is larger than $m$. For example if we sign a message of 5, an adversary can forge a proof for a message of 6. This is can be done using the following formula:\n",
    "\n",
    "$$h(sig^5) = h(h^5(sk)) = h^6(sk) = sig^6$$\n",
    "\n",
    "The [next notebook](https://github.com/Blake-Haydon/Winternitz-Signatures/blob/main/4_bit_winternitz_secure.ipynb) contains a fix for this problem."
   ]
  },
  {
   "cell_type": "code",
   "execution_count": 5,
   "metadata": {},
   "outputs": [
    {
     "data": {
      "text/plain": [
       "True"
      ]
     },
     "execution_count": 5,
     "metadata": {},
     "output_type": "execute_result"
    }
   ],
   "source": [
    "forged_message = 6 #0b0110\n",
    "assert forged_message > message # The forged message must be greater than the original message\n",
    "\n",
    "# Successfully forge signature of new message\n",
    "forged_signature = hash_chain(forged_message - message, signature)\n",
    "hash_chain(16 - forged_message, forged_signature) == public_key"
   ]
  }
 ],
 "metadata": {
  "kernelspec": {
   "display_name": "Python 3",
   "language": "python",
   "name": "python3"
  },
  "language_info": {
   "codemirror_mode": {
    "name": "ipython",
    "version": 3
   },
   "file_extension": ".py",
   "mimetype": "text/x-python",
   "name": "python",
   "nbconvert_exporter": "python",
   "pygments_lexer": "ipython3",
   "version": "3.10.4"
  },
  "orig_nbformat": 4,
  "vscode": {
   "interpreter": {
    "hash": "2ab98c4b59af728aa8bd9922870b996a7fc5861c87b81242319b92eec59b5fef"
   }
  }
 },
 "nbformat": 4,
 "nbformat_minor": 2
}
