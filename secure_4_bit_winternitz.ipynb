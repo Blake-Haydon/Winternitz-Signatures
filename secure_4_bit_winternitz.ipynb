{
 "cells": [
  {
   "cell_type": "code",
   "execution_count": 17,
   "metadata": {},
   "outputs": [],
   "source": [
    "import hashlib\n",
    "import secrets"
   ]
  },
  {
   "cell_type": "code",
   "execution_count": 18,
   "metadata": {},
   "outputs": [],
   "source": [
    "def hash_chain(n: int, x: bytes) -> bytes:\n",
    "    '''Hashes a value n times, h(h(h(...h(x)...)))'''\n",
    "    for _ in range(n):\n",
    "        x = hashlib.sha3_256(x).digest()\n",
    "\n",
    "    return x"
   ]
  },
  {
   "attachments": {},
   "cell_type": "markdown",
   "metadata": {},
   "source": [
    "## Generate Key Pair\n"
   ]
  },
  {
   "cell_type": "code",
   "execution_count": 19,
   "metadata": {},
   "outputs": [
    {
     "name": "stdout",
     "output_type": "stream",
     "text": [
      "public_key_0.hex()='f20ea5cb1110cd311ba47d6aaff85578c4a4eecfa0a63246461fd5938b1da13d'\n",
      "public_key_1.hex()='10c5047335f3cb3b34b9a5b094a8ee5711cb8357698761223766371f7d801bf3'\n"
     ]
    }
   ],
   "source": [
    "private_key_0 = secrets.token_bytes(32)\n",
    "private_key_1 = secrets.token_bytes(32)\n",
    "public_key_0 = hash_chain(16, private_key_0) \n",
    "public_key_1 = hash_chain(16, private_key_1) \n",
    "\n",
    "print(f\"{public_key_0.hex()=}\")\n",
    "print(f\"{public_key_1.hex()=}\")"
   ]
  },
  {
   "attachments": {},
   "cell_type": "markdown",
   "metadata": {},
   "source": [
    "## Sign Message"
   ]
  },
  {
   "cell_type": "code",
   "execution_count": 20,
   "metadata": {},
   "outputs": [
    {
     "name": "stdout",
     "output_type": "stream",
     "text": [
      "signature_0.hex()='cb70875bee58512cb28a2714c517c8686b685fa215b92140a369a4318596b38f'\n",
      "signature_1.hex()='03679a0e02fe500f03840e7fd0bc0f8a5cb21bace5975f7c00e835ffc2081813'\n"
     ]
    }
   ],
   "source": [
    "message = 5 #0b0101\n",
    "signature_0 = hash_chain(message, private_key_0)\n",
    "signature_1 = hash_chain(16 - message, private_key_1)\n",
    "\n",
    "print(f\"{signature_0.hex()=}\")\n",
    "print(f\"{signature_1.hex()=}\")"
   ]
  },
  {
   "attachments": {},
   "cell_type": "markdown",
   "metadata": {},
   "source": [
    "## Verify Message"
   ]
  },
  {
   "cell_type": "code",
   "execution_count": 25,
   "metadata": {},
   "outputs": [
    {
     "name": "stdout",
     "output_type": "stream",
     "text": [
      "True\n",
      "True\n"
     ]
    }
   ],
   "source": [
    "print(hash_chain(16 - message, signature_0) == public_key_0)\n",
    "print(hash_chain(message, signature_1) == public_key_1)"
   ]
  }
 ],
 "metadata": {
  "kernelspec": {
   "display_name": "Python 3",
   "language": "python",
   "name": "python3"
  },
  "language_info": {
   "codemirror_mode": {
    "name": "ipython",
    "version": 3
   },
   "file_extension": ".py",
   "mimetype": "text/x-python",
   "name": "python",
   "nbconvert_exporter": "python",
   "pygments_lexer": "ipython3",
   "version": "3.10.4"
  },
  "orig_nbformat": 4,
  "vscode": {
   "interpreter": {
    "hash": "2ab98c4b59af728aa8bd9922870b996a7fc5861c87b81242319b92eec59b5fef"
   }
  }
 },
 "nbformat": 4,
 "nbformat_minor": 2
}
