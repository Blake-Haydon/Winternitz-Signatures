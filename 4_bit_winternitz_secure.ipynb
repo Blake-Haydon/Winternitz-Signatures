{
 "cells": [
  {
   "cell_type": "code",
   "execution_count": 6,
   "metadata": {},
   "outputs": [],
   "source": [
    "import secrets\n",
    "from winternitz_utils import hash_chain "
   ]
  },
  {
   "attachments": {},
   "cell_type": "markdown",
   "metadata": {},
   "source": [
    "## Generate Key Pair\n"
   ]
  },
  {
   "cell_type": "code",
   "execution_count": 7,
   "metadata": {},
   "outputs": [
    {
     "name": "stdout",
     "output_type": "stream",
     "text": [
      "public_key_0.hex()='b5ade9cb4e46c3ec63df4064d71c0bde7486b07f3183c3a66abc983629a32cc2'\n",
      "public_key_1.hex()='32401bc5f450a8623246a8ecf2d286e5b95906428abf869ef645404780c61ca3'\n"
     ]
    }
   ],
   "source": [
    "private_key_0 = secrets.token_bytes(32)\n",
    "private_key_1 = secrets.token_bytes(32)\n",
    "public_key_0 = hash_chain(16, private_key_0) \n",
    "public_key_1 = hash_chain(16, private_key_1) \n",
    "\n",
    "print(f\"{public_key_0.hex()=}\")\n",
    "print(f\"{public_key_1.hex()=}\")"
   ]
  },
  {
   "attachments": {},
   "cell_type": "markdown",
   "metadata": {},
   "source": [
    "## Sign Message"
   ]
  },
  {
   "cell_type": "code",
   "execution_count": 8,
   "metadata": {},
   "outputs": [
    {
     "name": "stdout",
     "output_type": "stream",
     "text": [
      "signature_0.hex()='e2a1acbba6f995489f81bb68b2c1be137a74db28d561972c45d1896202c5e287'\n",
      "signature_1.hex()='d0e01accf93e0a1df1c62693c0cce441fdafcca254eebd2c8c105ca513c82b90'\n"
     ]
    }
   ],
   "source": [
    "message = 5 #0b0101\n",
    "signature_0 = hash_chain(message, private_key_0)\n",
    "signature_1 = hash_chain(16 - message, private_key_1)\n",
    "\n",
    "print(f\"{signature_0.hex()=}\")\n",
    "print(f\"{signature_1.hex()=}\")"
   ]
  },
  {
   "attachments": {},
   "cell_type": "markdown",
   "metadata": {},
   "source": [
    "## Verify Message"
   ]
  },
  {
   "cell_type": "code",
   "execution_count": 9,
   "metadata": {},
   "outputs": [
    {
     "name": "stdout",
     "output_type": "stream",
     "text": [
      "True\n",
      "True\n"
     ]
    }
   ],
   "source": [
    "print(hash_chain(16 - message, signature_0) == public_key_0)\n",
    "print(hash_chain(message, signature_1) == public_key_1)"
   ]
  }
 ],
 "metadata": {
  "kernelspec": {
   "display_name": "Python 3",
   "language": "python",
   "name": "python3"
  },
  "language_info": {
   "codemirror_mode": {
    "name": "ipython",
    "version": 3
   },
   "file_extension": ".py",
   "mimetype": "text/x-python",
   "name": "python",
   "nbconvert_exporter": "python",
   "pygments_lexer": "ipython3",
   "version": "3.10.4 (main, Mar 25 2022, 14:53:18) [Clang 13.1.6 (clang-1316.0.21.2)]"
  },
  "orig_nbformat": 4,
  "vscode": {
   "interpreter": {
    "hash": "2ab98c4b59af728aa8bd9922870b996a7fc5861c87b81242319b92eec59b5fef"
   }
  }
 },
 "nbformat": 4,
 "nbformat_minor": 2
}
