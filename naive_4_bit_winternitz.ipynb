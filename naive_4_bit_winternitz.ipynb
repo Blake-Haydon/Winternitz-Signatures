{
 "cells": [
  {
   "cell_type": "code",
   "execution_count": 1,
   "metadata": {},
   "outputs": [],
   "source": [
    "import hashlib\n",
    "import secrets"
   ]
  },
  {
   "cell_type": "code",
   "execution_count": 2,
   "metadata": {},
   "outputs": [],
   "source": [
    "def hash_chain(n: int, x: bytes) -> bytes:\n",
    "    '''Hashes a value n times, h(h(h(...h(x)...)))'''\n",
    "    for _ in range(n):\n",
    "        x = hashlib.sha3_256(x).digest()\n",
    "\n",
    "    return x"
   ]
  },
  {
   "attachments": {},
   "cell_type": "markdown",
   "metadata": {},
   "source": [
    "## Generate Key Pair\n",
    "\n"
   ]
  },
  {
   "cell_type": "code",
   "execution_count": 3,
   "metadata": {},
   "outputs": [
    {
     "name": "stdout",
     "output_type": "stream",
     "text": [
      "public_key.hex()='6cae5c9fea4da679fefabda6aa8710272ff1a59cebc740d9255d4d8ad015632d'\n"
     ]
    }
   ],
   "source": [
    "private_key = secrets.token_bytes(32)\n",
    "public_key = hash_chain(16, private_key)\n",
    "\n",
    "print(f\"{public_key.hex()=}\")"
   ]
  },
  {
   "attachments": {},
   "cell_type": "markdown",
   "metadata": {},
   "source": [
    "## Sign Message"
   ]
  },
  {
   "cell_type": "code",
   "execution_count": 4,
   "metadata": {},
   "outputs": [
    {
     "name": "stdout",
     "output_type": "stream",
     "text": [
      "signature.hex()='e9f3ea5a220615920f2850aa7994fb9a9b69328e6de68b74efda5b87df9ee3da'\n"
     ]
    }
   ],
   "source": [
    "message = 5 #0b0101\n",
    "signature = hash_chain(message, private_key)\n",
    "\n",
    "print(f\"{signature.hex()=}\")"
   ]
  },
  {
   "attachments": {},
   "cell_type": "markdown",
   "metadata": {},
   "source": [
    "## Verify Message"
   ]
  },
  {
   "cell_type": "code",
   "execution_count": 5,
   "metadata": {},
   "outputs": [
    {
     "data": {
      "text/plain": [
       "True"
      ]
     },
     "execution_count": 5,
     "metadata": {},
     "output_type": "execute_result"
    }
   ],
   "source": [
    "hash_chain(16 - message, signature) == public_key"
   ]
  },
  {
   "attachments": {},
   "cell_type": "markdown",
   "metadata": {},
   "source": [
    "## Forged Signature"
   ]
  },
  {
   "cell_type": "code",
   "execution_count": 12,
   "metadata": {},
   "outputs": [
    {
     "data": {
      "text/plain": [
       "True"
      ]
     },
     "execution_count": 12,
     "metadata": {},
     "output_type": "execute_result"
    }
   ],
   "source": [
    "forged_message = 10 #0b1010\n",
    "assert forged_message > message\n",
    "\n",
    "# Successfully forge signature of new message\n",
    "forged_signature = hash_chain(forged_message - message, signature)\n",
    "hash_chain(16 - forged_message, forged_signature) == public_key"
   ]
  }
 ],
 "metadata": {
  "kernelspec": {
   "display_name": "Python 3",
   "language": "python",
   "name": "python3"
  },
  "language_info": {
   "codemirror_mode": {
    "name": "ipython",
    "version": 3
   },
   "file_extension": ".py",
   "mimetype": "text/x-python",
   "name": "python",
   "nbconvert_exporter": "python",
   "pygments_lexer": "ipython3",
   "version": "3.10.4 (main, Mar 25 2022, 14:53:18) [Clang 13.1.6 (clang-1316.0.21.2)]"
  },
  "orig_nbformat": 4,
  "vscode": {
   "interpreter": {
    "hash": "2ab98c4b59af728aa8bd9922870b996a7fc5861c87b81242319b92eec59b5fef"
   }
  }
 },
 "nbformat": 4,
 "nbformat_minor": 2
}
