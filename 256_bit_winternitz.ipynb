{
 "cells": [
  {
   "cell_type": "code",
   "execution_count": 9,
   "metadata": {},
   "outputs": [],
   "source": [
    "import secrets\n",
    "import numpy as np\n",
    "from winternitz_utils import hash_chain, hash_message, split_into_n_chunks"
   ]
  },
  {
   "cell_type": "code",
   "execution_count": 10,
   "metadata": {},
   "outputs": [],
   "source": [
    "####### CONSTANTS #######\n",
    "\n",
    "# Max number of bits that a message can be\n",
    "MESSAGE_BITS = 256\n",
    "\n",
    "####### TYPE DEFINITIONS #######\n",
    "PrivateKey = list[bytes]\n",
    "PublicKey = list[bytes]\n",
    "Signature = list[bytes]"
   ]
  },
  {
   "attachments": {},
   "cell_type": "markdown",
   "metadata": {},
   "source": [
    "### **TODO: ADD CHECKSUM TO MAKE SECURE**"
   ]
  },
  {
   "cell_type": "code",
   "execution_count": 11,
   "metadata": {},
   "outputs": [],
   "source": [
    "def generate_private_key(hash_chain_bits: int) -> PrivateKey:\n",
    "    '''Generates a random private key'''\n",
    "\n",
    "    if (MESSAGE_BITS % hash_chain_bits) != 0:\n",
    "        raise ValueError('hash_chain_bits must be a divisor of MESSAGE_BITS')\n",
    "\n",
    "    # Generate a random private key that will be used to encode the range 2^{hash_chain_bits}\n",
    "    return [secrets.token_bytes(MESSAGE_BITS // 8) for _ in range(MESSAGE_BITS // hash_chain_bits)]\n",
    "\n",
    "\n",
    "def generate_public_key(hash_chain_bits: int, private_key: PrivateKey) -> PublicKey:\n",
    "    '''Generates a public key from a private key'''\n",
    "\n",
    "    # Hash the private key n times\n",
    "    fixed_num_hash = lambda x: hash_chain(2**hash_chain_bits, x)\n",
    "    return list(map(fixed_num_hash, private_key))\n",
    "\n",
    "def generate_keypair(hash_chain_bits: int):\n",
    "    '''Generates a private key and a public key'''\n",
    "\n",
    "    private_key = generate_private_key(hash_chain_bits)\n",
    "    public_key = generate_public_key(hash_chain_bits, private_key)\n",
    "\n",
    "    return private_key, public_key\n",
    "\n",
    "\n",
    "def sign_message(hash_chain_bits: int, message: str, private_key: PrivateKey) -> Signature:\n",
    "    '''Signs a message using a private key'''\n",
    "    \n",
    "    message_hash = hash_message(message)\n",
    "    message_chunks = split_into_n_chunks(message_hash, hash_chain_bits)\n",
    "    return [hash_chain(message_chunks[i], private_key[i]) for i in range(len(message_chunks))]\n",
    "\n",
    "\n",
    "def verify_signature(hash_chain_bits: int, message: str, public_key: PublicKey, signature: Signature) -> bool:\n",
    "    '''Verifies a signature using a public key and message hash'''\n",
    "    message_hash = hash_message(message)\n",
    "    message_chunks = split_into_n_chunks(message_hash, hash_chain_bits)\n",
    "    recreated_public_key = [hash_chain(2**hash_chain_bits - message_chunks[i], signature[i]) for i in range(len(message_chunks))]\n",
    "    return recreated_public_key == public_key"
   ]
  },
  {
   "cell_type": "code",
   "execution_count": 12,
   "metadata": {},
   "outputs": [
    {
     "data": {
      "text/plain": [
       "True"
      ]
     },
     "execution_count": 12,
     "metadata": {},
     "output_type": "execute_result"
    }
   ],
   "source": [
    "sk, pk = generate_keypair(8)\n",
    "signature = sign_message(8, 'hello', sk) \n",
    "verify_signature(8, 'hello', pk, signature)"
   ]
  }
 ],
 "metadata": {
  "kernelspec": {
   "display_name": "Python 3",
   "language": "python",
   "name": "python3"
  },
  "language_info": {
   "codemirror_mode": {
    "name": "ipython",
    "version": 3
   },
   "file_extension": ".py",
   "mimetype": "text/x-python",
   "name": "python",
   "nbconvert_exporter": "python",
   "pygments_lexer": "ipython3",
   "version": "3.10.4"
  },
  "orig_nbformat": 4,
  "vscode": {
   "interpreter": {
    "hash": "2ab98c4b59af728aa8bd9922870b996a7fc5861c87b81242319b92eec59b5fef"
   }
  }
 },
 "nbformat": 4,
 "nbformat_minor": 2
}
